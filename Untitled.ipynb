{
 "cells": [
  {
   "cell_type": "code",
   "execution_count": 1,
   "id": "60d42bbf-7007-45c5-8fca-289913057eed",
   "metadata": {},
   "outputs": [],
   "source": [
    "import plotly.express as px\n",
    "import plotly.graph_objects as go\n",
    "import pandas as pd\n",
    "import numpy as np\n",
    "import streamlit as st\n",
    "from datetime import datetime,time\n",
    "from PIL import Image\n",
    "from plotly.subplots import make_subplots"
   ]
  },
  {
   "cell_type": "code",
   "execution_count": 2,
   "id": "8d5d48af-b42a-4b7a-aefd-586ca65f954a",
   "metadata": {},
   "outputs": [],
   "source": [
    "\n",
    "def processar_dados():\n",
    "    csv_path = \"dataset_des1/results-demo1.csv\""
   ]
  },
  {
   "cell_type": "code",
   "execution_count": 4,
   "id": "99b4aced-aa66-4cf9-b207-377a1a299d8a",
   "metadata": {},
   "outputs": [],
   "source": [
    "import pandas as pd\n",
    "import plotly.express as px\n",
    "import plotly.graph_objects as go\n",
    "import matplotlib.pyplot as plt\n",
    "import seaborn as sns\n",
    "import numpy as np"
   ]
  },
  {
   "cell_type": "code",
   "execution_count": null,
   "id": "344130e9-267a-476e-80a5-8276ef12931e",
   "metadata": {},
   "outputs": [],
   "source": []
  },
  {
   "cell_type": "code",
   "execution_count": null,
   "id": "a32eea86-587a-40e8-b00d-5bbe4dee0d7a",
   "metadata": {},
   "outputs": [],
   "source": []
  }
 ],
 "metadata": {
  "kernelspec": {
   "display_name": "Python 3 (ipykernel)",
   "language": "python",
   "name": "python3"
  },
  "language_info": {
   "codemirror_mode": {
    "name": "ipython",
    "version": 3
   },
   "file_extension": ".py",
   "mimetype": "text/x-python",
   "name": "python",
   "nbconvert_exporter": "python",
   "pygments_lexer": "ipython3",
   "version": "3.12.0"
  }
 },
 "nbformat": 4,
 "nbformat_minor": 5
}
